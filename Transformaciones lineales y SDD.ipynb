{
 "cells": [
  {
   "cell_type": "code",
   "execution_count": 2,
   "id": "9bafb837-6a1e-4c24-98e3-5b7a76c7f58d",
   "metadata": {},
   "outputs": [],
   "source": [
    "import numpy as np\n",
    "%matplotlib inline\n",
    "import matplotlib.pyplot as plt\n",
    "from matplotlib.widgets import Slider\n",
    "\n",
    "from scipy.linalg import eigh, eig\n",
    "from numpy import roots\n",
    "\n",
    "import pandas as pd"
   ]
  },
  {
   "cell_type": "markdown",
   "id": "27143382-5c68-4875-9388-a68703c5a173",
   "metadata": {},
   "source": [
    "# Transformaciones lineales\n"
   ]
  },
  {
   "cell_type": "markdown",
   "id": "e41213c2-695a-4a27-9a06-19735a807788",
   "metadata": {},
   "source": [
    "La revisión de transformaciones lineales debe cubrir\n",
    "\n",
    "- definición e intuición\n",
    "- propiedades\n",
    "- ejemplos de expansión en 1 o 2 dimensiones\n",
    "- ejemplos de rotación\n",
    "\n",
    "Una transformación lineal es una función que va a tomar un vector $V$ para mapearlos en otro espacio vectorial $W$. Bajo ciertas condiciones, como tener una dimensión finita y una base bien definida, entonces podemos representar una transformación lineal como una matriz, en nuestro ejemplo será la matriz $A$\n",
    "\n",
    "$$T(v) = Av$$\n",
    "\n",
    "donde $$T:\\mathcal{V} \\rightarrow \\mathcal{W}$$\n",
    "\n",
    "las transformaciones lineales conservan las operaciones de suma vectorial y producto por escalar. Esto es:\n",
    "\n",
    "- $T(u + v) = T(u) + T(w)$\n",
    "- $T(\\alpha v) = \\alpha T(v)$\n",
    "\n",
    "Llamamos $\\operatorname{Ker}(T)$ a todos los vectores $v \\in V$ que bajo $T$ van a dar a $0 \\in W$\n",
    "\n",
    "$$\n",
    "\\operatorname{Ker}(T) = \\{v \\in V: 0 = T(x) \\}\n",
    "$$\n",
    "\n",
    "Mientras que $\\operatorname{Im}(T)$ son todos los vectores $w \\in W$ a los que se mapean los vectores $v$\n",
    "\n",
    "$$\n",
    "\\operatorname{Im}(T) = \\{w \\in W : w = T(v) \\}\n",
    "$$"
   ]
  },
  {
   "cell_type": "markdown",
   "id": "2683312a-356f-4e02-a94d-97a5ec0a35dc",
   "metadata": {},
   "source": [
    "## Ejemplos \n"
   ]
  },
  {
   "cell_type": "markdown",
   "id": "2cde81fc-8547-44f6-a25b-ddd61961fb58",
   "metadata": {},
   "source": [
    "Vamos a ver algunos ejemplos de transformaciones lineales como\n",
    "\n",
    "- Rotación 90°\n",
    "- Rotación general\n",
    "- Reflexión\n",
    "- Expansión y Compresión\n",
    "- Perspectiva\n"
   ]
  },
  {
   "cell_type": "markdown",
   "id": "728fec3e-c1da-43a6-9951-29c1e7399eb1",
   "metadata": {},
   "source": [
    "### Rotación $\\pi/2$"
   ]
  },
  {
   "cell_type": "markdown",
   "id": "684ceada-710c-4008-a8c5-6dd699c519b6",
   "metadata": {},
   "source": [
    "Vamos a hacer los siguientes ejemplos de transformaciones lineales, por ejemplo, una rotación con la siguiente matriz\n",
    "\n",
    "$$\n",
    "A = \\left( \\matrix{0 & -1\\\\\n",
    "                   1 & 0} \\right)\n",
    "$$\n",
    "\n",
    "entonces si $v = (x,y)$ ¿qué pasa cuando lo aplicamos?\n",
    "\n",
    "$$\n",
    "Ax = \\left( \\matrix{0 & -1\\\\\n",
    "                   1 & 0} \\right) \\left( \\matrix{ x \\\\ y} \\right) =  \\left( \\matrix{ 0x - 1y \\\\ 1x + 0y} \\right) =  \\left( \\matrix{-y \\\\ x} \\right)\n",
    "$$\n",
    "\n"
   ]
  },
  {
   "cell_type": "markdown",
   "id": "5ba8eaa4-ae86-4822-8508-e94d5b1552cf",
   "metadata": {},
   "source": [
    "### Rotación general"
   ]
  },
  {
   "cell_type": "markdown",
   "id": "bccadf4e-dbbb-4664-ac31-9ce5cab8f01d",
   "metadata": {},
   "source": [
    "De hecho, planteado de forma general, podemos tener una rotación en general para cualquier vector por el ángulo $\\theta$ en $\\mathcal{R}^2$ con la siguiente matriz\n",
    "\n",
    "$$\n",
    "R = \\left( \\matrix{\\cos(\\theta) & -\\operatorname{sen}(\\theta) \\\\\n",
    "                   \\operatorname{sen}(\\theta) & \\cos(\\theta)} \\right)\n",
    "$$\n",
    "\n",
    "Es decir si $\\theta = \\pi/2$ obtenemos a la matriz A\n",
    "\n",
    "$$\n",
    "A = \\left( \\matrix{\\cos(\\pi/2) & -\\operatorname{sen}(\\pi/2) \\\\\n",
    "                   \\operatorname{sen}(\\pi/2) &  \\cos(\\pi/2)} \\right) = \\left( \\matrix{ 0 & -1 \\\\\n",
    "                                                                                      1 &  0} \\right)\n",
    "$$\n",
    "\n",
    "De forma general, cualquier vector $(x,y)$ rotado tiene la siguiente forma\n",
    "\n",
    "$$\n",
    "R = \\left( \\matrix{\\cos(\\theta) & -\\operatorname{sen}(\\theta) \\\\\n",
    "                   \\operatorname{sen}(\\theta) & \\cos(\\theta)} \\right) \\left( \\matrix{ x \\\\ y} \\right) = \\left( \\matrix{(\\cos\\theta, -\\operatorname{sen} \\theta) \\cdot (x,y)  \\\\ (\\operatorname{sen} \\theta, \\cos\\theta) \\cdot (x,y) } \\right) = \\left( \\matrix { x\\cos \\theta -y \\operatorname {sen} \\theta  \\\\ x\\operatorname{sen} + y\\cos \\theta}\\right)\n",
    "$$"
   ]
  },
  {
   "cell_type": "code",
   "execution_count": 3,
   "id": "c1663cec-23b2-4348-9c36-51aa704917c2",
   "metadata": {},
   "outputs": [
    {
     "data": {
      "text/plain": [
       "(array([-4.,  2.]), array([-4.,  2.]))"
      ]
     },
     "execution_count": 3,
     "metadata": {},
     "output_type": "execute_result"
    }
   ],
   "source": [
    "# matriz de rotación con theta = 90°\n",
    "theta = np.pi/2\n",
    "\n",
    "A = np.array([[np.cos(theta), -np.sin(theta)],\n",
    "              [np.sin(theta),  np.cos(theta)]])\n",
    "\n",
    "vector = np.array([2,4])\n",
    "\n",
    "# Hacemos la rotación mediante dos métodos, como función\n",
    "# y como la aplicación de la matriz de rotación\n",
    "rotacion = lambda th, x, y : np.array([x*np.cos(th) - y*np.sin(th), x*np.sin(th) + y*np.cos(th)])\n",
    "\n",
    "rotacion(theta, vector[0], vector[1]), A @ vector"
   ]
  },
  {
   "cell_type": "markdown",
   "id": "0c3e024f-31d0-4c40-b91c-289c51a4428f",
   "metadata": {},
   "source": [
    "### Reflexión"
   ]
  },
  {
   "cell_type": "markdown",
   "id": "4058c18b-50b0-4b86-afd7-bbc93703b83d",
   "metadata": {},
   "source": [
    "\n",
    "Ahora veamos este otro ejemplo\n",
    "\n",
    "$$\n",
    "A = \\left( \\matrix{1 & 0\\\\\n",
    "                   0 & -1} \\right)\n",
    "$$\n",
    "\n",
    "entonces si $v = (x,y)$ ¿qué pasa cuando lo aplicamos?\n",
    "\n",
    "$$\n",
    "Ax = \\left( \\matrix{1 & 0\\\\\n",
    "                    0 & -1} \\right) \\left( \\matrix{ x \\\\ y} \\right) = \\left( \\matrix{ x \\\\ -y} \\right)\n",
    "$$\n"
   ]
  },
  {
   "cell_type": "markdown",
   "id": "12fe1410-49e9-4485-8871-58114f97ea2d",
   "metadata": {},
   "source": [
    "Hacemos algunos puntos que podemos usar de aquí en adelante "
   ]
  },
  {
   "cell_type": "code",
   "execution_count": 164,
   "id": "cfd2ddea-d0a8-4f65-b7c2-3ec63759846d",
   "metadata": {},
   "outputs": [],
   "source": [
    "A = np.array([[1,0],[0,-1]])"
   ]
  },
  {
   "cell_type": "code",
   "execution_count": 165,
   "id": "c0afa4db-a5f9-4742-aa2c-867e86d48cc0",
   "metadata": {},
   "outputs": [
    {
     "data": {
      "text/plain": [
       "array([[-0.46202903, -0.55146539],\n",
       "       [ 0.59433741, -0.52173451],\n",
       "       [-0.31832532, -0.56814314],\n",
       "       [-0.47101249, -0.57607778],\n",
       "       [ 0.24037822, -0.5316113 ],\n",
       "       [ 0.18062316, -0.57912637],\n",
       "       [-0.37947322, -0.5757431 ],\n",
       "       [-0.29190614, -0.56420324],\n",
       "       [ 0.41731228, -0.51067737],\n",
       "       [ 0.30082599, -0.50429206],\n",
       "       [-0.59502149, -0.56337847],\n",
       "       [ 0.36313548, -0.53061702],\n",
       "       [ 0.17096743, -0.52079842],\n",
       "       [-0.13217288, -0.54977444],\n",
       "       [ 0.3660831 , -0.55374891],\n",
       "       [ 0.14014436, -0.51849695],\n",
       "       [-0.00944796, -0.50104653],\n",
       "       [-0.44733536, -0.50439313],\n",
       "       [ 0.55608867, -0.56154107],\n",
       "       [ 0.08108456, -0.50745688],\n",
       "       [-0.2644234 , -0.59403258],\n",
       "       [-0.18135285, -0.50810372],\n",
       "       [ 0.34217315, -0.53468299],\n",
       "       [-0.58196843, -0.54379566],\n",
       "       [ 0.47535493, -0.55657209],\n",
       "       [ 0.14653578, -0.51912146],\n",
       "       [-0.20202944, -0.52479902],\n",
       "       [ 0.43038467, -0.53841265],\n",
       "       [ 0.3701633 , -0.56024221],\n",
       "       [-0.59559251, -0.52148562]])"
      ]
     },
     "execution_count": 165,
     "metadata": {},
     "output_type": "execute_result"
    }
   ],
   "source": [
    "x_vals_new = np.random.uniform(-0.6, 0.6, 30)\n",
    "y_vals_new = np.random.uniform(0.5, 0.6, 30)\n",
    "points_new = np.column_stack((x_vals_new, y_vals_new))\n",
    "\n",
    "# Apply the reflection matrix\n",
    "reflected_points_new = points_new @ A\n",
    "\n",
    "reflected_points_new"
   ]
  },
  {
   "cell_type": "markdown",
   "id": "d6aa5161-e4a0-4f6f-baf5-ee0ff02a6332",
   "metadata": {},
   "source": [
    "Ahora los graficamos "
   ]
  },
  {
   "cell_type": "code",
   "execution_count": 166,
   "id": "f0ea35f0-e9d7-4045-accc-3a0603195e86",
   "metadata": {},
   "outputs": [
    {
     "data": {
      "image/png": "[encoded data removed]",
      "text/plain": [
       "<Figure size 800x600 with 1 Axes>"
      ]
     },
     "metadata": {},
     "output_type": "display_data"
    }
   ],
   "source": [
    "plt.figure(figsize=(8, 6))\n",
    "plt.scatter(points_new[:, 0], points_new[:, 1], color='blue', label='Original ')\n",
    "plt.scatter(reflected_points_new[:, 0], reflected_points_new[:, 1], color='red', label='Reflejados')\n",
    "plt.axhline(0, color='black', linestyle='--', linewidth=0.5)\n",
    "plt.legend()\n",
    "plt.grid(True)\n",
    "plt.axis('equal')\n",
    "plt.show()"
   ]
  },
  {
   "cell_type": "code",
   "execution_count": 167,
   "id": "911a67ed-1d19-4f50-a2e1-12513b1d137e",
   "metadata": {},
   "outputs": [],
   "source": [
    "def grafica(originales, puntos, etiquetas):\n",
    "    fig, ax = plt.subplots(1,1, figsize=(8, 6))\n",
    "    ax.scatter(originales[:, 0], originales[:, 1], color='blue', label=etiquetas[0])\n",
    "    ax.scatter(puntos[:, 0], puntos[:, 1], color='red', label=etiquetas[1])\n",
    "    ax.axhline(0, color='black', linestyle='--', linewidth=0.5)\n",
    "    ax.legend()\n",
    "    ax.grid(True)\n",
    "    ax.axis('equal')\n"
   ]
  },
  {
   "cell_type": "code",
   "execution_count": 168,
   "id": "89ae3cdd-a044-4d4c-aa79-0ca0a6e358c5",
   "metadata": {},
   "outputs": [],
   "source": [
    "#\n",
    "T = np.array([[2,0],[0,2]])\n",
    "expandidos = points_new @ T.T"
   ]
  },
  {
   "cell_type": "code",
   "execution_count": 169,
   "id": "0230d511-3da5-40f0-b0f4-ac97bf6fd199",
   "metadata": {},
   "outputs": [
    {
     "data": {
      "image/png": "[encoded data removed]",
      "text/plain": [
       "<Figure size 800x600 with 1 Axes>"
      ]
     },
     "metadata": {},
     "output_type": "display_data"
    }
   ],
   "source": [
    "ax = grafica(points_new, expandidos,['originales','expandidos'])\n",
    "\n",
    "plt.title('Expansión')\n",
    "plt.show()"
   ]
  },
  {
   "cell_type": "markdown",
   "id": "e9134afe-4c2e-4a07-844a-3a29ddac833b",
   "metadata": {},
   "source": [
    "### Expansión y contracción"
   ]
  },
  {
   "cell_type": "markdown",
   "id": "3cfaabab-2e4b-472c-b89b-729fabf9d7c1",
   "metadata": {},
   "source": [
    "Vamos a aplicar una transformación \n",
    "$$\n",
    "E = mI\n",
    "$$\n",
    "\n",
    "Con $m \\in \\{3, \\frac{1}{3}\\}$\n",
    "\n",
    "Con lo que nos quedan estas dos matrices\n",
    "$$\n",
    "\\begin{align}\n",
    "E_1 = 3I = \\left[ \\matrix{3 & 0\\\\\n",
    "                          0 & 3} \\right] & & E_2 = \\frac{1}{3}I = \\left[ \\matrix{1/3 & 0\\\\\n",
    "                                                                                   0 & 1/3} \\right]\n",
    "\\end{align}\n",
    "$$"
   ]
  },
  {
   "cell_type": "code",
   "execution_count": 170,
   "id": "22599f18-91a6-4816-bf54-185aa4f5d906",
   "metadata": {},
   "outputs": [],
   "source": [
    "# Parameters\n",
    "num_points = 500\n",
    "r_min = 0.2\n",
    "r_max = 0.5\n",
    "\n",
    "# Generate random radii (sqrt distribution for uniform area)\n",
    "r = np.sqrt(np.random.uniform(r_min**2, r_max**2, num_points))\n",
    "theta = np.random.uniform(0, 2*np.pi, num_points)\n",
    "\n",
    "# Convert polar to Cartesian coordinates\n",
    "x = r * np.cos(theta)\n",
    "y = r * np.sin(theta)\n",
    "\n",
    "# Keep only points inside the box [-0.5, 0.5] x [-0.5, 0.5]\n",
    "mask = (x >= -0.5) & (x <= 0.5) & (y >= -0.5) & (y <= 0.5)\n",
    "x_boxed = x[mask]\n",
    "y_boxed = y[mask]\n"
   ]
  },
  {
   "cell_type": "code",
   "execution_count": 10,
   "id": "bf5aabeb-56db-4d34-9e67-b2fb5432e2d4",
   "metadata": {},
   "outputs": [
    {
     "data": {
      "image/png": "[encoded data removed]",
      "text/plain": [
       "<Figure size 640x480 with 1 Axes>"
      ]
     },
     "metadata": {},
     "output_type": "display_data"
    }
   ],
   "source": [
    "M = np.array([[3,0],[0,3]])\n",
    "P = np.column_stack((x_boxed, y_boxed))\n",
    "plt.scatter(P[:,0], P[:,1], s=1)\n",
    "plt.xlim(-1.05, 1.05)\n",
    "plt.ylim(-1.05, 1.05)\n",
    "plt.gca().set_aspect('equal', adjustable='box')\n",
    "plt.title('Puntos en [-0.5, 0.5]^2')\n",
    "plt.show()"
   ]
  },
  {
   "cell_type": "code",
   "execution_count": 11,
   "id": "35c82c50-22aa-4d7b-9b7f-82644e804786",
   "metadata": {},
   "outputs": [
    {
     "data": {
      "image/png": "[encoded data removed]",
      "text/plain": [
       "<Figure size 640x480 with 1 Axes>"
      ]
     },
     "metadata": {},
     "output_type": "display_data"
    }
   ],
   "source": [
    "expansion = P @ M\n",
    "plt.scatter(expansion[:,0], expansion[:,1], s=1, c='r')\n",
    "plt.scatter(P[:,0], P[:,1], s=1)\n",
    "plt.gca().set_aspect('equal', adjustable='box')\n",
    "plt.title('Expansion con m=3')\n",
    "plt.show()\n"
   ]
  },
  {
   "cell_type": "code",
   "execution_count": 12,
   "id": "1bd89c8b-867c-47ef-91de-0391aaa242fa",
   "metadata": {},
   "outputs": [
    {
     "data": {
      "image/png": "[encoded data removed]",
      "text/plain": [
       "<Figure size 640x480 with 1 Axes>"
      ]
     },
     "metadata": {},
     "output_type": "display_data"
    }
   ],
   "source": [
    "N = np.array([[1/3,0],[0,1/3]])\n",
    "contraccion = P @ N\n",
    "plt.scatter(contraccion[:,0], contraccion[:,1], s=1, c='r')\n",
    "plt.scatter(P[:,0], P[:,1], s=1)\n",
    "plt.gca().set_aspect('equal', adjustable='box')\n",
    "plt.title(r'Contraccion con $m=\\frac{1}{3}$')\n",
    "plt.show()"
   ]
  },
  {
   "cell_type": "markdown",
   "id": "8a506797-9cfa-43cd-8a3f-18f36c3e7f59",
   "metadata": {},
   "source": [
    "### Perspectiva"
   ]
  },
  {
   "cell_type": "markdown",
   "id": "3288eb96-5049-4111-a6de-24b2d15184dc",
   "metadata": {},
   "source": [
    "Vamos a intentar la transofrmación lineal siguiente\n",
    "$$\n",
    "A = \\left( \\matrix{m & 0\\\\\n",
    "                   0 & 1/m} \\right)\n",
    "$$\n",
    "\n",
    "para dos valores\n",
    "$$\n",
    "m = \\lbrace 2, \\frac{1}{2} \\rbrace\n",
    "$$"
   ]
  },
  {
   "cell_type": "code",
   "execution_count": 13,
   "id": "006e1eb5-c1d7-463e-8319-9a4849626c3d",
   "metadata": {},
   "outputs": [
    {
     "data": {
      "text/plain": [
       "array([[0.5, 0. ],\n",
       "       [0. , 2. ]])"
      ]
     },
     "execution_count": 13,
     "metadata": {},
     "output_type": "execute_result"
    }
   ],
   "source": [
    "m = 1/2\n",
    "T = np.array([[m, 0],[0, 1/m]])\n",
    "nuevos = points_new @ T.T\n",
    "T"
   ]
  },
  {
   "cell_type": "code",
   "execution_count": 14,
   "id": "e40aa06b-6d29-4f04-8f4e-da1d59e273a0",
   "metadata": {},
   "outputs": [
    {
     "data": {
      "text/plain": [
       "Text(0.5, 1.0, '$m =0.5$')"
      ]
     },
     "execution_count": 14,
     "metadata": {},
     "output_type": "execute_result"
    },
    {
     "data": {
      "image/png": "[encoded data removed]",
      "text/plain": [
       "<Figure size 800x600 with 1 Axes>"
      ]
     },
     "metadata": {},
     "output_type": "display_data"
    }
   ],
   "source": [
    "\n",
    "ax = grafica(points_new, nuevos, ['originales','misterio'])\n",
    "plt.title(rf'$m ={m}$')"
   ]
  },
  {
   "cell_type": "markdown",
   "id": "9f32d0c1-c5e4-4bc8-b300-7388b1897d4b",
   "metadata": {},
   "source": [
    "### Inclinación"
   ]
  },
  {
   "cell_type": "markdown",
   "id": "50fcdd4f-5282-4522-925f-3d881508cbf2",
   "metadata": {},
   "source": [
    "Vamos a intentar la transofrmación lineal siguiente\n",
    "$$\n",
    "S = \\left( \\matrix{1 & -\\sin\\theta\\\\\n",
    "                   0 & \\cos\\theta} \\right)\n",
    "$$\n",
    "\n",
    "que inclina los puntos sobre el eje $Y$ en un ángulo $\\theta$. Si $\\theta=\\pi/6$ entonces la matriz $S$ queda como\n",
    "\n",
    "$$\n",
    "S =  \\left( \\matrix{1 & -\\sin\\pi/6\\\\\n",
    "                   0 & \\cos\\pi/6} \\right) = \\left( \\matrix{1 & -0.5\\\\\n",
    "                                                           0 &  \\sqrt{3}/2} \\right)\n",
    "$$\n"
   ]
  },
  {
   "cell_type": "code",
   "execution_count": 15,
   "id": "34526d06-dab3-482d-b0fc-723b435af025",
   "metadata": {},
   "outputs": [
    {
     "data": {
      "text/plain": [
       "array([[ 1.       , -0.5      ],\n",
       "       [ 0.       ,  0.8660254]])"
      ]
     },
     "execution_count": 15,
     "metadata": {},
     "output_type": "execute_result"
    }
   ],
   "source": [
    "S =  np.array([[1, -np.sin(np.pi/6)],[0, np.cos(np.pi/6)]])\n",
    "S"
   ]
  },
  {
   "cell_type": "code",
   "execution_count": 16,
   "id": "50811329-f3cc-497a-9640-c1891f7013d1",
   "metadata": {},
   "outputs": [],
   "source": [
    "N = (S @ expansion.T).T\n"
   ]
  },
  {
   "cell_type": "code",
   "execution_count": 17,
   "id": "01d7f607-7a11-471b-aa47-ebaf8612f9d5",
   "metadata": {},
   "outputs": [
    {
     "data": {
      "image/png": "[encoded data removed]",
      "text/plain": [
       "<Figure size 640x480 with 1 Axes>"
      ]
     },
     "metadata": {},
     "output_type": "display_data"
    }
   ],
   "source": [
    "# plt.scatter(expansion[:,0], expansion[:,1], s=1)\n",
    "plt.scatter(N[:,0], N[:,1], s=1, c='r')\n",
    "plt.xlim(-2.05, 2.05)\n",
    "plt.ylim(-2.05, 2.05)\n",
    "plt.grid()\n",
    "plt.gca().set_aspect('equal', adjustable='box')\n"
   ]
  },
  {
   "cell_type": "markdown",
   "id": "4f6ce761-de1d-4d0d-adba-1215c28824aa",
   "metadata": {},
   "source": [
    "## Animación\n"
   ]
  },
  {
   "cell_type": "code",
   "execution_count": 18,
   "id": "b913288b-ed97-4b37-a267-152d8220d0f7",
   "metadata": {},
   "outputs": [
    {
     "name": "stderr",
     "output_type": "stream",
     "text": [
      "C:\\Users\\usuario\\AppData\\Local\\Temp\\ipykernel_21788\\718083623.py:46: UserWarning: No artists with labels found to put in legend.  Note that artists whose label start with an underscore are ignored when legend() is called with no argument.\n",
      "  plt.legend()\n"
     ]
    },
    {
     "data": {
      "image/png": "[encoded data removed]",
      "text/plain": [
       "<Figure size 800x800 with 3 Axes>"
      ]
     },
     "metadata": {},
     "output_type": "display_data"
    }
   ],
   "source": [
    "# Define the transformation matrix\n",
    "A = np.array([[0, -1],\n",
    "              [1, 0]])\n",
    "\n",
    "# Set up the plot\n",
    "fig, ax = plt.subplots(figsize=(8, 8))\n",
    "plt.subplots_adjust(bottom=0.25)  # Leave space for sliders\n",
    "ax.set_xlim(-1.2, 1.2)\n",
    "ax.set_ylim(-1.2, 1.2)\n",
    "ax.grid(True)\n",
    "ax.set_aspect('equal')\n",
    "ax.set_title('Interactive Linear Transformation')\n",
    "\n",
    "# Initial vector\n",
    "x_init, y_init = 1, 1\n",
    "vector = np.array([x_init, y_init])\n",
    "transformed_vector = A @ vector\n",
    "\n",
    "# Plot the original and transformed vectors\n",
    "orig_arrow = ax.quiver(0, 0, x_init, y_init, angles='xy', scale_units='xy', scale=1, color='blue', label='Original')\n",
    "trans_arrow = ax.quiver(0, 0, transformed_vector[0], transformed_vector[1], angles='xy', scale_units='xy', scale=1, color='red', label='Transformed')\n",
    "\n",
    "# Sliders for x and y components\n",
    "ax_x = plt.axes([0.2, 0.1, 0.65, 0.03])\n",
    "ax_y = plt.axes([0.2, 0.05, 0.65, 0.03])\n",
    "\n",
    "#slider_x = Slider(ax_x, 'X', -4.0, 4.0, valinit=x_init)\n",
    "#slider_y = Slider(ax_y, 'Y', -4.0, 4.0, valinit=y_init)\n",
    "\n",
    "# Update function\n",
    "def update(val):\n",
    "    x = slider_x.val\n",
    "    y = slider_y.val\n",
    "    vector = np.array([x, y])\n",
    "    transformed = A @ vector\n",
    "\n",
    "    # Update the arrows\n",
    "    orig_arrow.set_UVC(x, y)\n",
    "    trans_arrow.set_UVC(transformed[0], transformed[1])\n",
    "    fig.canvas.draw_idle()\n",
    "\n",
    "# # Connect sliders to update function\n",
    "# slider_x.on_changed(update)\n",
    "# slider_y.on_changed(update)\n",
    "\n",
    "plt.legend()\n",
    "plt.show()\n"
   ]
  },
  {
   "cell_type": "code",
   "execution_count": 21,
   "id": "326b9c53-44b4-4d48-a642-acf2d68582c3",
   "metadata": {},
   "outputs": [
    {
     "name": "stdout",
     "output_type": "stream",
     "text": [
      "Original vector: [ 1.  -0.5]\n",
      "Transformed vector: [0.5 1. ]\n"
     ]
    },
    {
     "data": {
      "image/png": "[encoded data removed]",
      "text/plain": [
       "<Figure size 640x480 with 1 Axes>"
      ]
     },
     "metadata": {},
     "output_type": "display_data"
    }
   ],
   "source": [
    "import numpy as np\n",
    "import matplotlib.pyplot as plt\n",
    "\n",
    "# Define a vector and a matrix\n",
    "v = np.array([1,-0.5])  # our original vector\n",
    "A = np.array([[0,-1],\n",
    "              [1,0]])  # matrix that stretches x by 2 and y by 3\n",
    "\n",
    "# Apply the linear transformation\n",
    "v_transformed = A @ v  # matrix multiplication\n",
    "# v_transformed = V @ A.T\n",
    "\n",
    "print(\"Original vector:\", v)\n",
    "print(\"Transformed vector:\", v_transformed)\n",
    "\n",
    "# Plotting\n",
    "origin = np.array([[0, 0], [0, 0]])  # origin point\n",
    "vectors = np.array([v, v_transformed]).T\n",
    "# vectors = zip(v, v_transformed)\n",
    "\n",
    "plt.quiver(*origin.T, *v, color='blue', angles='xy', scale_units='xy', scale=1, label='Original')\n",
    "plt.quiver(*origin.T, *v_transformed.T, color='red', angles='xy', scale_units='xy', scale=1, label='Transformed')\n",
    "\n",
    "plt.xlim(-1.2, 1.2)\n",
    "plt.ylim(-1.2, 1.2)\n",
    "plt.grid()\n",
    "# plt.title('Linear Transformation of a Vector')\n",
    "plt.legend(['Original', 'Transformed'])\n",
    "plt.show()\n"
   ]
  },
  {
   "cell_type": "markdown",
   "id": "592c7e50-dd03-4084-98a2-3193eaa99a38",
   "metadata": {},
   "source": [
    "## Eigenespacio"
   ]
  },
  {
   "cell_type": "markdown",
   "id": "d142d48f-4b77-4135-a44e-d5fa11cca43a",
   "metadata": {},
   "source": [
    "¿Cómo analizamos una transformación lineal? Vamos a centrar nuestro interés en aquellos que son múltiplos escalares entre ellos \n",
    "\n",
    "$$\n",
    "v = \\lambda w\n",
    "$$\n",
    "\n",
    "Con esta igualdad estamos buscando un escalar $\\lambda$ que hace a los vectores $v$ y $w$ colineales. Por ejemplo $\\left[\\matrix{1\\\\0.5\\\\3}\\right] = 0.25 \\cdot \\left[\\matrix{4\\\\2\\\\12}\\right]$ con $\\lambda = \\frac{1}{4}$\n",
    "."
   ]
  },
  {
   "cell_type": "markdown",
   "id": "4ab5596a-0d85-4aee-8ee4-13a60f5dcb9d",
   "metadata": {},
   "source": [
    "Ahora, si consideramos a toda la transformación lineal $A$ y proyectamos al vector $v$\n",
    "$$\n",
    "Av = w\n",
    "$$\n",
    "donde $\\left[\\matrix{ w_1 \\\\ \\vdots \\\\ w_n} \\right] = \\left[\\matrix{ a_{11}v_1 + \\ldots + a_{1m}v_n \\\\ \\vdots \\\\ a_{n1}v_1 + \\ldots + a_{nm}v_n } \\right]$ es decir $w_i = \\sum_{j=1}^{n} a_{ij}v_j$. \n",
    "\n",
    "Cuando pasa que\n",
    "$$\n",
    "Av = \\lambda v\n",
    "$$\n",
    "Decimos que $v$ es un **eigenvector** de $A$ y la ecuación se puede expresar como todos aquellos vectores que no están rotando y sólo se multiplican escalarmente."
   ]
  },
  {
   "cell_type": "markdown",
   "id": "badef014-23e1-4483-bd4c-9797c2aae320",
   "metadata": {},
   "source": [
    "Entonces lo que nos resta es determinar la forma de todos estos vectores $v$. Podemos plantear la ecuación equivalente como sigue\n",
    "\n",
    "$$\n",
    "\\begin{align}\n",
    " Av - \\lambda v & \\equiv (A - \\lambda I)v = 0 \\\\\n",
    "\\end{align}\n",
    "$$\n",
    "\n",
    "La respuesta no trivial a esta ecuación se cumple cuando $\\det(A-\\lambda I) = 0$. Es decir debemos resolver la siguiente expresión.\n",
    "\n",
    "$$\n",
    "\\det \\left( \\left[\\matrix{a_{11} - \\lambda & a_{21}            & \\ldots & a_{1m}          \\\\ \n",
    "                          a_{21}           & a_{22} - \\lambda  & \\ldots & a_{2m}          \\\\\n",
    "                                \\vdots     &     \\ddots        & \\vdots                   \\\\\n",
    "                          a_{n1}           & a_{22}            & \\ldots & a_{nm} - \\lambda } \\right] \\right) = 0\n",
    "$$\n",
    "\n",
    "Recordando el determinante (en $\\mathcal{R}^2$) se calcula como $\\det(A) = ad - bc$. Entonces una transformación lineal en $\\mathcal{R}^2$ esta expresión queda como\n",
    "\n",
    "$$\n",
    "\\det \\left( \\left[\\matrix{a_{11} - \\lambda & a_{12} \\\\ \n",
    "                  a_{21}                   & a_{22} - \\lambda } \\right] \\right) = 0\n",
    "$$\n",
    "\n",
    "Aplicando la definición de $\\det$ esto se reduce a resolver el siguiente polinomio\n",
    "$$\n",
    "p(\\lambda) = (a_{11}-\\lambda)(a_{22}-\\lambda) - a_{21}a_{12} = 0\n",
    "$$\n",
    "\n",
    "A $p(\\lambda)$ lo denominamos **polinomio característico** y a las raíces $\\lambda_i$ los denominamos **eigenvalores** que son los escalares que \n",
    "escalan cada entrada de los eigenvectores. Es importante notar que las transformaciones lineales a las que les podemos sacar los eigenvectores deben ser de $n\\times n$, es decir sólo está definido para matrices cuadradas.\n",
    "\n",
    "En la práctica usamos algoritmos computacionales como la factorización $QR$ para determinar los eigenvectores ya que es imposible resolver este polinimio cuando es de grado $n\\ge 5$\n",
    "\n",
    "Con cada una de las raíces de $p(\\lambda)$ hay que obtener cada uno de los eigenvectores $v_i$ asociados a cada a partir de la igualdas\n",
    "$$\n",
    "(A - \\lambda_i I)v_i = 0\n",
    "$$"
   ]
  },
  {
   "cell_type": "markdown",
   "id": "baab223e-53c8-432b-9341-0d3602e6f577",
   "metadata": {},
   "source": [
    "Ejemplo. Si $A$ es la matriz\n",
    "$$\n",
    "A = \\left[\\matrix{1 & 3\\\\0 & 2}\\right]\n",
    "$$\n",
    "entonces\n",
    "$$\n",
    "p(\\lambda) = (1-\\lambda)(2 -\\lambda) = 0\n",
    "$$\n",
    "Resolviendo este polinomio se puede constatar que\n",
    "$$\n",
    "\\lambda = \\lbrace 1, 2 \\rbrace\n",
    "$$\n",
    "Y para obtener los eigenvectores hay que resolver la siguiente ecuación para $\\lbrace \\lambda_1, \\lambda_2 \\rbrace$\n",
    "$$\n",
    "(A - \\lambda_i I)v_i = \\left[\\matrix{1 - \\lambda_i & 3\\\\0 & 2 - \\lambda_i}\\right] \\left( \\matrix{v_{i,1} \\\\ v_{i,2}} \\right) = 0\n",
    "$$\n",
    "para $\\lambda_1=1$ tenemos que $A-I = \\left[\\matrix{0 & 3\\\\0 & 1}\\right]$ y para $\\lambda_2=2$ lo que tenemos es $A-2I =\n",
    "\\left[\\matrix{-1 & 3\\\\0 & 0}\\right]$ los eigenvectores son\n",
    "$$\n",
    "\\begin{array}[cc]\n",
    "& v_1 = \\left(\\matrix{1\\\\0}\\right) & v_2 = \\left(\\matrix{3\\\\1}\\right)\n",
    "\\end{array}\n",
    "$$\n"
   ]
  },
  {
   "cell_type": "code",
   "execution_count": 171,
   "id": "848e9597-0b33-4f0f-a39e-d5afcbb31cbb",
   "metadata": {},
   "outputs": [
    {
     "data": {
      "text/plain": [
       "array([[1, 3],\n",
       "       [0, 2]])"
      ]
     },
     "execution_count": 171,
     "metadata": {},
     "output_type": "execute_result"
    }
   ],
   "source": [
    "A = np.array([[1,3],[0, 2]])\n",
    "A"
   ]
  },
  {
   "cell_type": "code",
   "execution_count": 23,
   "id": "08a72e9e-a9bf-4cfe-8651-04152d1110a7",
   "metadata": {},
   "outputs": [
    {
     "data": {
      "text/plain": [
       "(array([1.+0.j, 2.+0.j]),\n",
       " array([[1.        , 0.9486833 ],\n",
       "        [0.        , 0.31622777]]))"
      ]
     },
     "execution_count": 23,
     "metadata": {},
     "output_type": "execute_result"
    }
   ],
   "source": [
    "eig(A)"
   ]
  },
  {
   "cell_type": "code",
   "execution_count": 24,
   "id": "93bb6778-1ee3-45aa-824e-8b2735d84180",
   "metadata": {},
   "outputs": [
    {
     "data": {
      "text/plain": [
       "array([2., 1.])"
      ]
     },
     "execution_count": 24,
     "metadata": {},
     "output_type": "execute_result"
    }
   ],
   "source": [
    "#A - l I = 0\n",
    "coefs = [1, -3, 2]\n",
    "lambdas = np.roots(coefs)\n",
    "lambdas\n"
   ]
  },
  {
   "cell_type": "code",
   "execution_count": 25,
   "id": "b1dc6343-8c29-46ba-8adb-fcc32b2f7f87",
   "metadata": {},
   "outputs": [
    {
     "data": {
      "text/plain": [
       "array([[-1.,  3.],\n",
       "       [ 0.,  0.]])"
      ]
     },
     "execution_count": 25,
     "metadata": {},
     "output_type": "execute_result"
    }
   ],
   "source": [
    "B = A - lambdas[0] * np.eye(2)\n",
    "B"
   ]
  },
  {
   "cell_type": "code",
   "execution_count": 26,
   "id": "907dd264-e848-43b4-b1c7-11a80ed2345d",
   "metadata": {},
   "outputs": [
    {
     "data": {
      "text/plain": [
       "array([[4.  , 0.  ],\n",
       "       [0.  , 0.25]])"
      ]
     },
     "execution_count": 26,
     "metadata": {},
     "output_type": "execute_result"
    }
   ],
   "source": [
    "m = 4\n",
    "T = np.array([[m, 0], [0, 1/m]])\n",
    "T"
   ]
  },
  {
   "cell_type": "code",
   "execution_count": 27,
   "id": "2d64a175-689f-46ba-88b8-d26de2774428",
   "metadata": {},
   "outputs": [
    {
     "data": {
      "text/plain": [
       "(array([0.25, 4.  ]),\n",
       " array([[ 0., -1.],\n",
       "        [-1., -0.]]))"
      ]
     },
     "execution_count": 27,
     "metadata": {},
     "output_type": "execute_result"
    }
   ],
   "source": [
    "eigh(T)"
   ]
  },
  {
   "cell_type": "markdown",
   "id": "0b8cb6b1-423e-4dbb-8d9a-18d12ee310af",
   "metadata": {},
   "source": [
    "## Sistemas discretos"
   ]
  },
  {
   "cell_type": "markdown",
   "id": "20a4de29-402e-40f2-92c3-9f9ef53845de",
   "metadata": {},
   "source": [
    "Un sistema dinámico discreto describe la evolución de un sistema a pasos discretos a través de un mapeo. Este función puede ser representada a través de una transformación lineal.\n",
    "\n",
    "$$\n",
    "x_{t+1} = Ax_t\n",
    "$$\n",
    "\n",
    "Típicamente de un proceso de este tipo es determinar el comportamiento a largo plazo de un sistema gobernado así, y cuando el sistema está descrito por una transformación lineal \n",
    "\n",
    "$$\\begin{align}\n",
    "x_1 & = Ax_0 \\\\\n",
    "x_2 & = Ax_1 \\\\\n",
    "& \\vdots \\\\\n",
    "x_n & = Ax_{n-1}\n",
    "\\end{align}\n",
    "$$\n",
    "\n",
    "La iteración repetida de la aplicación de $A$ se ve como sigue\n",
    "\n",
    "$$\\begin{align}\n",
    "x_2 & = A(A x_0)     & = A^2x_0 \\\\\n",
    "x_3 & = A(A(A(x_0))) & = A^3x_0\\\\\n",
    " & \\vdots \\\\\n",
    "x_n & = A(A(\\ldots(Ax_0)))\\ldots) = A^n x_0\n",
    "\\end{align}\n",
    "$$"
   ]
  },
  {
   "cell_type": "markdown",
   "id": "b66e166f-4160-448d-9345-19f9850f0ea9",
   "metadata": {},
   "source": [
    "### Ejemplo 1: El clima como ejemplo"
   ]
  },
  {
   "cell_type": "markdown",
   "id": "2a75e402-da91-4ac4-b30e-c8195d7c9a43",
   "metadata": {},
   "source": [
    "Un caso sencillo en el que sólo hay dos estados del clima, Soleado y Nublado.\n",
    "La probabilidad de pasar de \n",
    "\n",
    "|    | S  |  N |\n",
    "|:--:|----|----|\n",
    "|**S**   | 0.8| 0.3|\n",
    "|**N**   | 0.2| 0.7|\n"
   ]
  },
  {
   "cell_type": "code",
   "execution_count": 28,
   "id": "3bcf3ab4-3e29-4541-897f-48bdc287f024",
   "metadata": {},
   "outputs": [
    {
     "data": {
      "text/plain": [
       "array([0.6, 0.4])"
      ]
     },
     "execution_count": 28,
     "metadata": {},
     "output_type": "execute_result"
    }
   ],
   "source": [
    "C = np.array([[0.8, 0.3], [0.2, 0.7]])\n",
    "p0 = np.array([1,0])\n",
    "p1 = C@p0\n",
    "p2 = C@p1\n",
    "p3 = C@p2\n",
    "p4 = C@p3\n",
    "p4\n",
    "l, V = eig(C)\n",
    "tt = V[:,0].sum()\n",
    "V[:,0] / tt"
   ]
  },
  {
   "cell_type": "markdown",
   "id": "02ac95c0-1389-48bf-89bc-a3e514edc628",
   "metadata": {},
   "source": [
    "A continuación vamos a hacer un pequeño ejemplo hipotético en el que midamos cómo se puede modelar el clima usando un sistema dinámico discreto, en particular uno denominado Modelo Oculto de Markok (HMM)"
   ]
  },
  {
   "cell_type": "markdown",
   "id": "f12897f1-81e1-46d7-88c4-ee41fb1907d1",
   "metadata": {},
   "source": [
    "En nuestro sistema simplificado vamos a considerar tres estados:\n",
    "\n",
    "- Soleado (S)\n",
    "- Lluvioso (R)\n",
    "- Nublado (O)\n",
    "\n",
    "Las primeras 212 lecturas del clima con esta convención son las siguientes \n",
    "> SSSSSSSSSSSSSSSORRSSOOORSSSSORSORRRSOORRRSOOROOOROORRRSSSOORSSOSSOOORRROSSOROROSSSRROOROSSSSSSSSSSORRSSOOR\n",
    "> RSOORRSSSORROSSSSSRRRSSORSSORSSSORSSSSSSSSSOOORRROSSSSOORRSSSSSOSSSSORORORRRSSSORORSSSSSOSSSOSSSRRRSORSRSS"
   ]
  },
  {
   "cell_type": "code",
   "execution_count": 129,
   "id": "1c0ed960-1947-4528-a63b-9fe23d4d6895",
   "metadata": {},
   "outputs": [
    {
     "data": {
      "text/plain": [
       "212"
      ]
     },
     "execution_count": 129,
     "metadata": {},
     "output_type": "execute_result"
    }
   ],
   "source": [
    "sequence  = \"SSSSSSSSSSSSSSSORRSSOOORSSSSORSORRRSOORRRSOOROOOROORRRSSSOORSSOSSOOORRROSSOROROSSSRROOROSSSSSSSSSSORRSSOOR\"\n",
    "sequence += \"RSOORRSSSORROSSSSSRRRSSORSSORSSSORSSSSSSSSSOOORRROSSSSOORRSSSSSOSSSSORORORRRSSSORORSSSSSOSSSOSSSRRRSORSRSS\"\n",
    "len(sequence)"
   ]
  },
  {
   "cell_type": "markdown",
   "id": "7b8351ee-90d1-4d57-acf9-ed41fbe2c056",
   "metadata": {},
   "source": [
    "¿Cuál es la probabilidad de cada estado?"
   ]
  },
  {
   "cell_type": "code",
   "execution_count": 130,
   "id": "b152082a-e512-43f0-a842-aaba59311c07",
   "metadata": {},
   "outputs": [
    {
     "name": "stdout",
     "output_type": "stream",
     "text": [
      "Las probabilidades de cada estado son \n",
      "Soloeado 0.491 \n",
      "Lluvioso 0.259 \n",
      "Nublado 0.250\n"
     ]
    }
   ],
   "source": [
    "Total = len(sequence)\n",
    "pR = sequence.count('R') / Total\n",
    "pO = sequence.count('O') / Total\n",
    "pS = sequence.count('S') / Total\n",
    "print(f'Las probabilidades de cada estado son \\nSoloeado {pS:.3f} \\nLluvioso {pR:.3f} \\nNublado {pO:.3f}')"
   ]
  },
  {
   "cell_type": "markdown",
   "id": "b219a48a-b793-43b3-9599-00ff27bbf7e1",
   "metadata": {},
   "source": [
    "Como nuestra motivación es entender la sucesión de un estado de clima al otro entonces vamos a medir las siguientes probabilidades\n",
    "\n",
    "- $P(X_t =R| X_{t-1}=R)$ Que son todas las veces que llovió considerando que el día anterior había llovido"
   ]
  },
  {
   "cell_type": "code",
   "execution_count": 173,
   "id": "e36d102c-ce3b-480d-a7ab-d902e1134881",
   "metadata": {},
   "outputs": [
    {
     "data": {
      "text/plain": [
       "(55, 23)"
      ]
     },
     "execution_count": 173,
     "metadata": {},
     "output_type": "execute_result"
    }
   ],
   "source": [
    "# De todas las transiciones con antecesor R \n",
    "# P(# |sequence\n",
    "todas_las_transiciones = [y for y in [sequence[i:i+2] for i in range(0,len(sequence))] if y[0]=='R']\n",
    "transiciones_al_edo    = [y for y in [sequence[i:i+2] for i in range(0,len(sequence))] if y=='RR']\n",
    "len(todas_las_transiciones), len(transiciones_al_edo)"
   ]
  },
  {
   "cell_type": "code",
   "execution_count": 132,
   "id": "a572d61e-524f-4851-966e-27eecf3a1196",
   "metadata": {},
   "outputs": [
    {
     "name": "stdout",
     "output_type": "stream",
     "text": [
      "23 / 55\n"
     ]
    },
    {
     "data": {
      "text/plain": [
       "0.41818181818181815"
      ]
     },
     "execution_count": 132,
     "metadata": {},
     "output_type": "execute_result"
    }
   ],
   "source": [
    "# vamos a hacerlo una función para cualquier transicion\n",
    "def calcula_transiciones(tupla, lista=sequence, verbose=True):\n",
    "    org, dst = tupla\n",
    "    todas_las_transiciones = [y for y in [lista[i:i+2] for i in range(0,len(lista)-1)] if y[0]==org]\n",
    "    transiciones_al_edo    = [y for y in todas_las_transiciones if y[1]==dst]\n",
    "    if(verbose):\n",
    "        print(f'{len(transiciones_al_edo)} / {len(todas_las_transiciones)}')\n",
    "    return len(transiciones_al_edo) / len(todas_las_transiciones)\n",
    "\n",
    "calcula_transiciones(('R','R'))\n"
   ]
  },
  {
   "cell_type": "code",
   "execution_count": 133,
   "id": "c809357f-64c7-4cbc-b578-1f5be1376066",
   "metadata": {},
   "outputs": [
    {
     "name": "stdout",
     "output_type": "stream",
     "text": [
      "23 / 55\n",
      "La transicion de R a R fue de 0.418\n",
      "20 / 55\n",
      "La transicion de R a S fue de 0.364\n",
      "12 / 55\n",
      "La transicion de R a O fue de 0.218\n",
      "4 / 103\n",
      "La transicion de S a R fue de 0.039\n",
      "74 / 103\n",
      "La transicion de S a S fue de 0.718\n",
      "25 / 103\n",
      "La transicion de S a O fue de 0.243\n",
      "28 / 53\n",
      "La transicion de O a R fue de 0.528\n",
      "9 / 53\n",
      "La transicion de O a S fue de 0.170\n",
      "16 / 53\n",
      "La transicion de O a O fue de 0.302\n"
     ]
    }
   ],
   "source": [
    "# ahora vamos a hacerlo para todas las combinaciones\n",
    "# de estados \n",
    "# usando un diccionario\n",
    "transiciones = {}\n",
    "for origen in 'RSO':\n",
    "    for destino in 'RSO':\n",
    "        trans_o_d = calcula_transiciones((origen, destino))\n",
    "        print(f'La transicion de {origen} a {destino} fue de {trans_o_d:.3f}')\n",
    "        transiciones[(origen, destino)] = trans_o_d"
   ]
  },
  {
   "cell_type": "code",
   "execution_count": 134,
   "id": "ef9e3427-e967-42ec-853d-4aa01b940769",
   "metadata": {},
   "outputs": [
    {
     "name": "stdout",
     "output_type": "stream",
     "text": [
      "          O         R         S\n",
      "O  0.301887  0.528302  0.169811\n",
      "R  0.218182  0.418182  0.363636\n",
      "S  0.242718  0.038835  0.718447\n"
     ]
    }
   ],
   "source": [
    "df = pd.DataFrame.from_dict(transiciones, orient='index', columns=['value'])\n",
    "df.index = pd.MultiIndex.from_tuples(df.index)\n",
    "\n",
    "matriz_transicion = df['value'].unstack(fill_value=0)\n",
    "\n",
    "print(matriz_transicion)"
   ]
  },
  {
   "cell_type": "markdown",
   "id": "ce8b697c-752a-464b-8b04-be8bfc82c7bd",
   "metadata": {},
   "source": [
    "\n",
    "| $X_{t-1}$ $X_t$| O      |    R     |   S     |\n",
    ":---------------:|:------:|:--------:|:-------:|\n",
    "| **O**          | 30.2%  | 52.8%    | 17.0%   |\n",
    "| **R**          | 21.8%  | 41.8%    | 36.4%   |\n",
    "| **S**          | 24.3%  |  3.9%    | 71.8%   | \n"
   ]
  },
  {
   "cell_type": "markdown",
   "id": "7eb5f6b9-e360-4a1c-83d7-40934e9bf9cf",
   "metadata": {},
   "source": [
    "Esta función dice que si hoy es\n",
    "\n",
    "`Nublado (O)` entonces para mañana hay una posibilidad del `30.2%` de que siga Nublado `O`, `52.8%`de que Llueva `R` y un `17%` este Soleado `S`. Y así para los demás estados.\n",
    "\n",
    "Es importante notar que la suma de cada renglón nos debe dar 1"
   ]
  },
  {
   "cell_type": "code",
   "execution_count": 135,
   "id": "4e61fe4f-932b-43a8-936e-5eec1705092f",
   "metadata": {},
   "outputs": [
    {
     "data": {
      "text/plain": [
       "O    1.0\n",
       "R    1.0\n",
       "S    1.0\n",
       "dtype: float64"
      ]
     },
     "execution_count": 135,
     "metadata": {},
     "output_type": "execute_result"
    }
   ],
   "source": [
    "matriz_transicion.sum(axis=1)"
   ]
  },
  {
   "cell_type": "code",
   "execution_count": 140,
   "id": "51eaabf8-30ce-4b1a-8b16-6cfde353c593",
   "metadata": {},
   "outputs": [
    {
     "data": {
      "text/plain": [
       "(array([0.21818182, 0.41818182, 0.36363636]), 1.0)"
      ]
     },
     "execution_count": 140,
     "metadata": {},
     "output_type": "execute_result"
    }
   ],
   "source": [
    "# Tomemos una distribución inicial\n",
    "p0 = np.array([0, 1, 0])\n",
    "assert sum(p0)==1\n",
    "\n",
    "# Entonces con estas probabilidades, mañana tenemos la probabilidad para cada estado como sigue\n",
    "p1 =   p0 @ P; p1, sum(p1)"
   ]
  },
  {
   "cell_type": "code",
   "execution_count": 141,
   "id": "519f2377-29f8-4710-82d3-4f8ab4547174",
   "metadata": {},
   "outputs": [
    {
     "data": {
      "text/plain": [
       "(array([0.24536713, 0.3042637 , 0.45036917]), 0.9999999999999999)"
      ]
     },
     "execution_count": 141,
     "metadata": {},
     "output_type": "execute_result"
    }
   ],
   "source": [
    "# y al día siguiente\n",
    "p2 = p1 @ P; p2, sum(p2)"
   ]
  },
  {
   "cell_type": "code",
   "execution_count": 144,
   "id": "dd41cd77-6d73-4a94-819b-e8bb8f7c8e1a",
   "metadata": {},
   "outputs": [
    {
     "data": {
      "text/plain": [
       "(array([0.24536713, 0.3042637 , 0.45036917]), 1.0)"
      ]
     },
     "execution_count": 144,
     "metadata": {},
     "output_type": "execute_result"
    }
   ],
   "source": [
    "# o bien\n",
    "p2 = p0 @ (P @ P) ; p2, sum(p2)"
   ]
  },
  {
   "cell_type": "code",
   "execution_count": 146,
   "id": "9918322f-dbac-41a1-bfb0-af583b72397f",
   "metadata": {},
   "outputs": [
    {
     "name": "stdout",
     "output_type": "stream",
     "text": [
      "En la iteracion 11 se obtuvo una distribución final (O,R,S) \n",
      "[0.25118477 0.26066423 0.488151  ]\n"
     ]
    }
   ],
   "source": [
    "# ahora vamos a ver cómo sería el comportamiento en el largo\n",
    "# plazo haciendo estas operaciones durante \"muchas\" iteraciones\n",
    "# en cuanto haya convergido a un valor estable, nos detendemos\n",
    "#\n",
    "#  P p* = p*\n",
    "#\n",
    "p = np.array([0,1,0])\n",
    "# p = np.array([1/3, 1/3, 1/3])\n",
    "T = 300\n",
    "for i in range(T):\n",
    "    pant = p.copy()\n",
    "    p = pant @ P \n",
    "    if(np.allclose(p,pant, atol=1e-10)):\n",
    "        break\n",
    "\n",
    "print(f'En la iteracion {i} se obtuvo una distribución final (O,R,S) \\n{p}')"
   ]
  },
  {
   "cell_type": "code",
   "execution_count": 149,
   "id": "70af37db-9a07-42af-8ffe-8319652feaeb",
   "metadata": {},
   "outputs": [
    {
     "data": {
      "text/plain": [
       "(array([0.25118279, 0.26068661, 0.48813061]), 1.0)"
      ]
     },
     "execution_count": 149,
     "metadata": {},
     "output_type": "execute_result"
    }
   ],
   "source": [
    "p0 = np.array([1,0,0])\n",
    "p15 = p0 @ np.linalg.matrix_power(P,10) \n",
    "p15, sum(p15)"
   ]
  },
  {
   "cell_type": "markdown",
   "id": "b7be664c-fc9b-4937-85d4-0d4809831fc0",
   "metadata": {},
   "source": [
    "El estado estable que induce esta distribución lo vamos a obtener usando los eigenvectores de $P$. Es importante notar que estamos buscando el eigenvector izquierdo ($\\pi P = \\pi$) pero las bibliotecas numéricas típicamente sacan el eigenvector derecho ($Pv=\\lambda v$) y en una matriz no simétrica esto sí afecta. Para lograr esto vamos a obtenerlo a partir de la matriz transpuesta y nos vamos a fijar en el eigenvector con $\\lambda = 1$.\n",
    "\n",
    "$$\n",
    "\\pi P = \\pi  \\Leftrightarrow P^T \\pi^T = \\pi^T\n",
    "$$"
   ]
  },
  {
   "cell_type": "code",
   "execution_count": 150,
   "id": "ba0cee91-0f1a-4122-9b8a-159bf8e9dfad",
   "metadata": {},
   "outputs": [],
   "source": [
    "vals,vects = np.linalg.eig(P.T)"
   ]
  },
  {
   "cell_type": "code",
   "execution_count": 151,
   "id": "2256fde2-cf43-48bd-9aa2-f65596971629",
   "metadata": {},
   "outputs": [
    {
     "data": {
      "text/plain": [
       "array([0.10255841, 0.33595681, 1.        ])"
      ]
     },
     "execution_count": 151,
     "metadata": {},
     "output_type": "execute_result"
    }
   ],
   "source": [
    "vals"
   ]
  },
  {
   "cell_type": "markdown",
   "id": "98f67f3d-1f9a-4529-b23f-32721afcb7cf",
   "metadata": {},
   "source": [
    "El eigenvector asociado al eigenvalor $|\\lambda|=1$ es el último. Este vector es el que caracteriza el comportamiento del sistema a la larga y es a partir del cuál podemos ver la probabilidad final de cada estado."
   ]
  },
  {
   "cell_type": "code",
   "execution_count": 152,
   "id": "9b66e715-cc7a-48f7-bf96-40924db6185f",
   "metadata": {},
   "outputs": [
    {
     "data": {
      "text/plain": [
       "array([[ 0.46040578,  0.06537991,  0.41331897],\n",
       "       [-0.81417197, -0.73752618,  0.42891591],\n",
       "       [ 0.35376619,  0.67214626,  0.80324253]])"
      ]
     },
     "execution_count": 152,
     "metadata": {},
     "output_type": "execute_result"
    }
   ],
   "source": [
    "vects"
   ]
  },
  {
   "cell_type": "code",
   "execution_count": 44,
   "id": "28976529-fb77-40de-a49c-0b4b84b12a7b",
   "metadata": {},
   "outputs": [
    {
     "data": {
      "text/plain": [
       "(1.0, array([0.25118483, 0.26066351, 0.48815166]))"
      ]
     },
     "execution_count": 44,
     "metadata": {},
     "output_type": "execute_result"
    }
   ],
   "source": [
    "# vamos a quedarnos con el eigenvector más cercano a 1\n",
    "# en este caso es el primero \n",
    "#\n",
    "estado_estable = vects[:, np.isclose(vals, 1)].flatten()\n",
    "estado_estable /= estado_estable.sum()\n",
    "estado_estable.sum(), estado_estable"
   ]
  },
  {
   "cell_type": "markdown",
   "id": "ce780b01-ddc6-4c57-ae23-4d2368e68f44",
   "metadata": {},
   "source": [
    "\n",
    "Entonces para la condición inicial $p_0$ obtenemos una probabilidad de cada uno de los \n",
    "posibles estados como lo indica el vector asociado al eigenvalor = 1. Es decir, los posibles estados\n",
    "de nublado, lluvioso y soleado respectivamente, tienen una probabilidad de:\n",
    "\n",
    "$$\n",
    "\\pi = [0.251, 0.260, 0.488]\n",
    "$$"
   ]
  },
  {
   "cell_type": "code",
   "execution_count": 45,
   "id": "6d52fa81-5190-44a6-9282-da30332c7af5",
   "metadata": {},
   "outputs": [
    {
     "data": {
      "image/png": "[encoded data removed]",
      "text/plain": [
       "<IPython.core.display.Image object>"
      ]
     },
     "execution_count": 45,
     "metadata": {},
     "output_type": "execute_result"
    }
   ],
   "source": [
    "import pydot\n",
    "from IPython.display import Image\n",
    "\n",
    "# Create a directed graph\n",
    "graph = pydot.Dot(graph_type='digraph', rankdir='LR')  # 'digraph' = directed graph\n",
    "\n",
    "# Add nodes (states)\n",
    "num_states = P.shape[0]\n",
    "etiquetas_nodos = 'ORS'\n",
    "for i in range(num_states):\n",
    "    node = pydot.Node(f\"{etiquetas_nodos[i]}\", shape=\"circle\",) \n",
    "    graph.add_node(node)\n",
    "\n",
    "# Add edges (transitions) with weights\n",
    "for i in range(num_states):\n",
    "    for j in range(num_states):\n",
    "        weight = P[i,j]\n",
    "        if weight > 0:  # Only draw edges with non-zero probability\n",
    "            edge = pydot.Edge(\n",
    "                f\"{etiquetas_nodos[i]}\", f\"{etiquetas_nodos[j]}\", \n",
    "                label=f\"{weight:.2f}\",  # Rounded to 2 decimal places\n",
    "                fontsize=\"7\"\n",
    "            )\n",
    "            graph.add_edge(edge)\n",
    "\n",
    "# Save the graph to a file (PNG format)\n",
    "# graph.write_png(\"transition_graph.png\")\n",
    "\n",
    "# Alternatively, display in Jupyter Notebook\n",
    "# \n",
    "Image(graph.create_png())"
   ]
  },
  {
   "cell_type": "markdown",
   "id": "3ca737ac-be66-423d-87dc-f2520d2af6ee",
   "metadata": {},
   "source": [
    "### Ejemplo 2"
   ]
  },
  {
   "cell_type": "markdown",
   "id": "97efadd9-779c-4a3b-adfe-cbc088e47097",
   "metadata": {},
   "source": [
    "$$\\begin{align}\n",
    "F &= \\left[\\begin{matrix} 1 & 1 \\\\ 1 & 0 \\end{matrix}\\right]\n",
    "\\end{align}$$\n",
    "\n",
    "Con este estado inicial\n",
    "$$\\begin{align}\n",
    "p &= \\left[\\begin{matrix} 1 \\\\ 0 \\end{matrix}\\right]\n",
    "\\end{align}$$\n",
    "\n",
    "El eigenespacio de $F$ se obtiene de\n",
    "$$\\begin{align}\n",
    "\\det(F - \\lambda I) &= \\det\\left(\\left[\\begin{matrix} 1 -\\lambda & 1 \\\\ 1 & -\\lambda \\end{matrix}\\right]\\right) = 0\n",
    "\\end{align}$$\n",
    "\n",
    "Con el que obtenemos un polinomio $p(\\lambda)$\n",
    "$$\n",
    "p(\\lambda) = \\lambda^2 - \\lambda - 1 = 0 \\implies  \\lambda_{1,2} = \\frac {1 \\pm \\sqrt{5}} {2}\n",
    "$$"
   ]
  },
  {
   "cell_type": "markdown",
   "id": "d94532f8-b49f-45ce-af91-10d87b931891",
   "metadata": {},
   "source": [
    "La evolución de algunos estados son estos\n",
    "$$\n",
    "\\begin{align}\n",
    "\\left[\\begin{matrix}1 \\\\ 1\\end{matrix}\\right]&= F \\left[\\begin{matrix}1 \\\\ 0\\end{matrix}\\right] \\\\\n",
    "\\left[\\begin{matrix}2 \\\\ 1\\end{matrix}\\right]&= F \\left[\\begin{matrix}1 \\\\ 1\\end{matrix}\\right] \\\\\n",
    "\\left[\\begin{matrix}3 \\\\ 2\\end{matrix}\\right]&= F \\left[\\begin{matrix}2 \\\\ 1\\end{matrix}\\right] \\\\\n",
    "\\vdots & \\\\\n",
    "\\left[\\begin{matrix}21 \\\\ 13\\end{matrix}\\right]&= F \\left[\\begin{matrix}13 \\\\ 8\\end{matrix}\\right] \\\\\n",
    "\\end{align}\n",
    "$$"
   ]
  },
  {
   "cell_type": "code",
   "execution_count": 84,
   "id": "76d537a0-522e-45a7-a117-3550994d61fd",
   "metadata": {},
   "outputs": [
    {
     "data": {
      "text/plain": [
       "array([[1, 1],\n",
       "       [1, 0]])"
      ]
     },
     "execution_count": 84,
     "metadata": {},
     "output_type": "execute_result"
    }
   ],
   "source": [
    "### Ejemplo 2\n",
    "F = np.array([[1,1],[1,0]])\n",
    "F"
   ]
  },
  {
   "cell_type": "code",
   "execution_count": 85,
   "id": "366892bc-4739-4ee6-a780-60b4d14512e9",
   "metadata": {},
   "outputs": [
    {
     "name": "stdout",
     "output_type": "stream",
     "text": [
      "0 [1 0]\n",
      "1 [1 1]\n",
      "2 [2 1]\n",
      "3 [3 2]\n",
      "4 [5 3]\n",
      "5 [8 5]\n",
      "6 [13  8]\n",
      "7 [21 13]\n",
      "8 [34 21]\n",
      "9 [55 34]\n",
      "[89 55]\n"
     ]
    }
   ],
   "source": [
    "p = np.array([1,0])  # estado inicial\n",
    "\n",
    "for i in range(10):\n",
    "    pant = p.copy()\n",
    "    print(f\"{i} {pant}\")\n",
    "    p = F.dot(p)\n",
    "\n",
    "print(p)"
   ]
  },
  {
   "cell_type": "code",
   "execution_count": 86,
   "id": "727fa845-eb9c-4419-a331-3e6d8ae157e1",
   "metadata": {},
   "outputs": [],
   "source": [
    "\n",
    "p = np.array([1,0])  # estado inicial\n",
    "O = [p]\n",
    "for i in range(50):\n",
    "    p = F.dot(p)\n",
    "    O.append(p)\n",
    "    "
   ]
  },
  {
   "cell_type": "code",
   "execution_count": 87,
   "id": "4336dceb-e5e0-432d-8299-9e6bf8f98d85",
   "metadata": {},
   "outputs": [
    {
     "data": {
      "text/plain": [
       "[(0, array([1, 0])),\n",
       " (1, array([1, 1])),\n",
       " (2, array([2, 1])),\n",
       " (3, array([3, 2])),\n",
       " (4, array([5, 3])),\n",
       " (5, array([8, 5])),\n",
       " (6, array([13,  8])),\n",
       " (7, array([21, 13])),\n",
       " (8, array([34, 21])),\n",
       " (9, array([55, 34])),\n",
       " (10, array([89, 55])),\n",
       " (11, array([144,  89])),\n",
       " (12, array([233, 144])),\n",
       " (13, array([377, 233])),\n",
       " (14, array([610, 377])),\n",
       " (15, array([987, 610])),\n",
       " (16, array([1597,  987])),\n",
       " (17, array([2584, 1597])),\n",
       " (18, array([4181, 2584])),\n",
       " (19, array([6765, 4181])),\n",
       " (20, array([10946,  6765])),\n",
       " (21, array([17711, 10946])),\n",
       " (22, array([28657, 17711])),\n",
       " (23, array([46368, 28657])),\n",
       " (24, array([75025, 46368])),\n",
       " (25, array([121393,  75025])),\n",
       " (26, array([196418, 121393])),\n",
       " (27, array([317811, 196418])),\n",
       " (28, array([514229, 317811])),\n",
       " (29, array([832040, 514229])),\n",
       " (30, array([1346269,  832040])),\n",
       " (31, array([2178309, 1346269])),\n",
       " (32, array([3524578, 2178309])),\n",
       " (33, array([5702887, 3524578])),\n",
       " (34, array([9227465, 5702887])),\n",
       " (35, array([14930352,  9227465])),\n",
       " (36, array([24157817, 14930352])),\n",
       " (37, array([39088169, 24157817])),\n",
       " (38, array([63245986, 39088169])),\n",
       " (39, array([102334155,  63245986])),\n",
       " (40, array([165580141, 102334155])),\n",
       " (41, array([267914296, 165580141])),\n",
       " (42, array([433494437, 267914296])),\n",
       " (43, array([701408733, 433494437])),\n",
       " (44, array([1134903170,  701408733])),\n",
       " (45, array([1836311903, 1134903170])),\n",
       " (46, array([-1323752223,  1836311903])),\n",
       " (47, array([  512559680, -1323752223])),\n",
       " (48, array([-811192543,  512559680])),\n",
       " (49, array([-298632863, -811192543])),\n",
       " (50, array([-1109825406,  -298632863]))]"
      ]
     },
     "execution_count": 87,
     "metadata": {},
     "output_type": "execute_result"
    }
   ],
   "source": [
    "list(enumerate(O))"
   ]
  },
  {
   "cell_type": "code",
   "execution_count": 88,
   "id": "7c75cd2e-ddc7-486f-8430-ae0b28d473ea",
   "metadata": {},
   "outputs": [
    {
     "name": "stderr",
     "output_type": "stream",
     "text": [
      "C:\\Users\\usuario\\AppData\\Local\\Temp\\ipykernel_21788\\3112824445.py:2: RuntimeWarning: overflow encountered in scalar add\n",
      "  sum(ps)\n"
     ]
    },
    {
     "data": {
      "text/plain": [
       "-1323752223"
      ]
     },
     "execution_count": 88,
     "metadata": {},
     "output_type": "execute_result"
    }
   ],
   "source": [
    "ps = np.array([1836311903, 1134903170])\n",
    "sum(ps)"
   ]
  },
  {
   "cell_type": "code",
   "execution_count": 172,
   "id": "41f9f059-5421-4a7e-a3c8-c404357dd4dc",
   "metadata": {},
   "outputs": [
    {
     "data": {
      "image/png": "[encoded data removed]",
      "text/plain": [
       "<Figure size 800x600 with 1 Axes>"
      ]
     },
     "metadata": {},
     "output_type": "display_data"
    }
   ],
   "source": [
    "O_array = np.array(O)\n",
    "\n",
    "# Extract x and y coordinates\n",
    "x = O_array[:44, 0]\n",
    "y = O_array[:44, 1]\n",
    "\n",
    "# Create the plot\n",
    "plt.figure(figsize=(8, 6))\n",
    "plt.plot(x, y, 'b-', linewidth=1)  # 'b-' means blue line\n",
    "plt.plot(x, y, 'ro', markersize=3)  # 'ro' means red dots\n",
    "\n",
    "# Add labels and title\n",
    "plt.xlabel('X ')\n",
    "plt.ylabel('Y ')\n",
    "plt.title('Puntos bajo F')\n",
    "\n",
    "plt.quiver(0,0, *vectsf[:,0]*valsf[0], color='red', scale=3)\n",
    "plt.quiver(0,0, *vectsf[:,1], color='red', scale=3)\n",
    "plt.xlim(-8e8, 8e8)\n",
    "plt.ylim(-2e8, 8e8)\n",
    "\n",
    "# Show the plot\n",
    "plt.grid(True)\n",
    "plt.show()"
   ]
  },
  {
   "cell_type": "code",
   "execution_count": 92,
   "id": "21d55694-2b2c-410b-9b8f-110ea5b89a90",
   "metadata": {},
   "outputs": [],
   "source": [
    "valsf, vectsf = np.linalg.eig(F.T)"
   ]
  },
  {
   "cell_type": "code",
   "execution_count": 93,
   "id": "bde07521-ef6e-48f3-8f68-32c7a0f29eb3",
   "metadata": {},
   "outputs": [
    {
     "data": {
      "text/plain": [
       "array([[ 0.85065081, -0.52573111],\n",
       "       [ 0.52573111,  0.85065081]])"
      ]
     },
     "execution_count": 93,
     "metadata": {},
     "output_type": "execute_result"
    }
   ],
   "source": [
    "vectsf"
   ]
  },
  {
   "cell_type": "code",
   "execution_count": 94,
   "id": "2d51007f-9f8e-4310-ba2e-e0522105c03f",
   "metadata": {},
   "outputs": [
    {
     "data": {
      "text/plain": [
       "array([ 1.61803399, -0.61803399])"
      ]
     },
     "execution_count": 94,
     "metadata": {},
     "output_type": "execute_result"
    }
   ],
   "source": [
    "valsf"
   ]
  },
  {
   "cell_type": "markdown",
   "id": "50dace15-7321-4fbe-ae84-f03ee1bd39ef",
   "metadata": {},
   "source": [
    "$$\n",
    "\\phi = \\frac{1 + \\sqrt{5}}{2}\n",
    "$$"
   ]
  },
  {
   "cell_type": "code",
   "execution_count": 196,
   "id": "c349e755-67a6-4702-8b46-a06ffbf54d75",
   "metadata": {},
   "outputs": [
    {
     "data": {
      "text/plain": [
       "(1.618033988749895, -0.6180339887498949)"
      ]
     },
     "execution_count": 196,
     "metadata": {},
     "output_type": "execute_result"
    }
   ],
   "source": [
    "phi_1, phi_2 = (1+np.sqrt(5))/2, (1-np.sqrt(5))/2\n",
    "phi_1, phi_2"
   ]
  }
 ],
 "metadata": {
  "kernelspec": {
   "display_name": "Python 3 (ipykernel)",
   "language": "python",
   "name": "python3"
  },
  "language_info": {
   "codemirror_mode": {
    "name": "ipython",
    "version": 3
   },
   "file_extension": ".py",
   "mimetype": "text/x-python",
   "name": "python",
   "nbconvert_exporter": "python",
   "pygments_lexer": "ipython3",
   "version": "3.10.16"
  }
 },
 "nbformat": 4,
 "nbformat_minor": 5
}
